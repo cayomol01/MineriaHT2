{
 "cells": [
  {
   "cell_type": "code",
   "execution_count": 1,
   "metadata": {},
   "outputs": [],
   "source": [
    "import pandas as pd\n",
    "import numpy as np\n",
    "import matplotlib.pyplot as plt\n",
    "import seaborn as sb\n",
    "import sklearn.cluster as cluster\n",
    "import sklearn.metrics as metrics\n",
    "from sklearn import datasets\n",
    "import sklearn.preprocessing\n",
    "import scipy.cluster.hierarchy as sch\n",
    "import skfuzzy as fuzz\n",
    "import pylab\n",
    "import pyclustertend\n",
    "import sklearn.mixture as mixture\n",
    "import random\n",
    "\n",
    "%matplotlib inline\n",
    "from mpl_toolkits.mplot3d import Axes3D\n",
    "plt.rcParams['figure.figsize'] = (16, 9)\n",
    "plt.style.use('ggplot')\n",
    "\n"
   ]
  },
  {
   "cell_type": "code",
   "execution_count": 2,
   "metadata": {},
   "outputs": [
    {
     "name": "stdout",
     "output_type": "stream",
     "text": [
      "id                             int64\n",
      "budget                         int64\n",
      "genres                        object\n",
      "homePage                      object\n",
      "productionCompany             object\n",
      "productionCompanyCountry      object\n",
      "productionCountry             object\n",
      "revenue                      float64\n",
      "runtime                        int64\n",
      "video                         object\n",
      "director                      object\n",
      "actors                        object\n",
      "actorsPopularity              object\n",
      "actorsCharacter               object\n",
      "originalTitle                 object\n",
      "title                         object\n",
      "originalLanguage              object\n",
      "popularity                   float64\n",
      "releaseDate                   object\n",
      "voteAvg                      float64\n",
      "voteCount                      int64\n",
      "genresAmount                   int64\n",
      "productionCoAmount             int64\n",
      "productionCountriesAmount      int64\n",
      "actorsAmount                   int64\n",
      "castWomenAmount               object\n",
      "castMenAmount                 object\n",
      "dtype: object\n"
     ]
    }
   ],
   "source": [
    "df = pd.read_csv(\"movies.csv\", encoding=\"latin1\")\n",
    "df.dropna()\n",
    "print(df.dtypes)\n"
   ]
  },
  {
   "attachments": {},
   "cell_type": "markdown",
   "metadata": {},
   "source": [
    "Las columnas que se usaran para el clustering son: \n",
    "- budget\n",
    "- revenue\n",
    "- runtime\n",
    "- popularity\n",
    "- voteavg"
   ]
  },
  {
   "cell_type": "code",
   "execution_count": 3,
   "metadata": {},
   "outputs": [
    {
     "data": {
      "text/html": [
       "<div>\n",
       "<style scoped>\n",
       "    .dataframe tbody tr th:only-of-type {\n",
       "        vertical-align: middle;\n",
       "    }\n",
       "\n",
       "    .dataframe tbody tr th {\n",
       "        vertical-align: top;\n",
       "    }\n",
       "\n",
       "    .dataframe thead th {\n",
       "        text-align: right;\n",
       "    }\n",
       "</style>\n",
       "<table border=\"1\" class=\"dataframe\">\n",
       "  <thead>\n",
       "    <tr style=\"text-align: right;\">\n",
       "      <th></th>\n",
       "      <th>id</th>\n",
       "      <th>budget</th>\n",
       "      <th>revenue</th>\n",
       "      <th>runtime</th>\n",
       "      <th>popularity</th>\n",
       "      <th>voteAvg</th>\n",
       "      <th>voteCount</th>\n",
       "      <th>genresAmount</th>\n",
       "      <th>productionCoAmount</th>\n",
       "      <th>productionCountriesAmount</th>\n",
       "      <th>actorsAmount</th>\n",
       "    </tr>\n",
       "  </thead>\n",
       "  <tbody>\n",
       "    <tr>\n",
       "      <th>count</th>\n",
       "      <td>10000.000000</td>\n",
       "      <td>1.000000e+04</td>\n",
       "      <td>1.000000e+04</td>\n",
       "      <td>10000.000000</td>\n",
       "      <td>10000.000000</td>\n",
       "      <td>10000.000000</td>\n",
       "      <td>10000.000000</td>\n",
       "      <td>10000.000000</td>\n",
       "      <td>10000.000000</td>\n",
       "      <td>10000.000000</td>\n",
       "      <td>10000.000000</td>\n",
       "    </tr>\n",
       "    <tr>\n",
       "      <th>mean</th>\n",
       "      <td>249876.829300</td>\n",
       "      <td>1.855163e+07</td>\n",
       "      <td>5.673793e+07</td>\n",
       "      <td>100.268100</td>\n",
       "      <td>51.393907</td>\n",
       "      <td>6.483490</td>\n",
       "      <td>1342.381800</td>\n",
       "      <td>2.596500</td>\n",
       "      <td>3.171400</td>\n",
       "      <td>1.751000</td>\n",
       "      <td>2147.666600</td>\n",
       "    </tr>\n",
       "    <tr>\n",
       "      <th>std</th>\n",
       "      <td>257380.109004</td>\n",
       "      <td>3.662669e+07</td>\n",
       "      <td>1.495854e+08</td>\n",
       "      <td>27.777829</td>\n",
       "      <td>216.729552</td>\n",
       "      <td>0.984274</td>\n",
       "      <td>2564.196637</td>\n",
       "      <td>1.154565</td>\n",
       "      <td>2.539738</td>\n",
       "      <td>3.012093</td>\n",
       "      <td>37200.075802</td>\n",
       "    </tr>\n",
       "    <tr>\n",
       "      <th>min</th>\n",
       "      <td>5.000000</td>\n",
       "      <td>0.000000e+00</td>\n",
       "      <td>0.000000e+00</td>\n",
       "      <td>0.000000</td>\n",
       "      <td>4.258000</td>\n",
       "      <td>1.300000</td>\n",
       "      <td>1.000000</td>\n",
       "      <td>0.000000</td>\n",
       "      <td>0.000000</td>\n",
       "      <td>0.000000</td>\n",
       "      <td>0.000000</td>\n",
       "    </tr>\n",
       "    <tr>\n",
       "      <th>25%</th>\n",
       "      <td>12286.500000</td>\n",
       "      <td>0.000000e+00</td>\n",
       "      <td>0.000000e+00</td>\n",
       "      <td>90.000000</td>\n",
       "      <td>14.577750</td>\n",
       "      <td>5.900000</td>\n",
       "      <td>120.000000</td>\n",
       "      <td>2.000000</td>\n",
       "      <td>2.000000</td>\n",
       "      <td>1.000000</td>\n",
       "      <td>13.000000</td>\n",
       "    </tr>\n",
       "    <tr>\n",
       "      <th>50%</th>\n",
       "      <td>152558.000000</td>\n",
       "      <td>5.000000e+05</td>\n",
       "      <td>1.631245e+05</td>\n",
       "      <td>100.000000</td>\n",
       "      <td>21.905500</td>\n",
       "      <td>6.500000</td>\n",
       "      <td>415.000000</td>\n",
       "      <td>3.000000</td>\n",
       "      <td>3.000000</td>\n",
       "      <td>1.000000</td>\n",
       "      <td>21.000000</td>\n",
       "    </tr>\n",
       "    <tr>\n",
       "      <th>75%</th>\n",
       "      <td>452021.750000</td>\n",
       "      <td>2.000000e+07</td>\n",
       "      <td>4.479661e+07</td>\n",
       "      <td>113.000000</td>\n",
       "      <td>40.654000</td>\n",
       "      <td>7.200000</td>\n",
       "      <td>1316.000000</td>\n",
       "      <td>3.000000</td>\n",
       "      <td>4.000000</td>\n",
       "      <td>2.000000</td>\n",
       "      <td>36.000000</td>\n",
       "    </tr>\n",
       "    <tr>\n",
       "      <th>max</th>\n",
       "      <td>922260.000000</td>\n",
       "      <td>3.800000e+08</td>\n",
       "      <td>2.847246e+09</td>\n",
       "      <td>750.000000</td>\n",
       "      <td>11474.647000</td>\n",
       "      <td>10.000000</td>\n",
       "      <td>30788.000000</td>\n",
       "      <td>16.000000</td>\n",
       "      <td>89.000000</td>\n",
       "      <td>155.000000</td>\n",
       "      <td>919590.000000</td>\n",
       "    </tr>\n",
       "  </tbody>\n",
       "</table>\n",
       "</div>"
      ],
      "text/plain": [
       "                  id        budget       revenue       runtime    popularity  \\\n",
       "count   10000.000000  1.000000e+04  1.000000e+04  10000.000000  10000.000000   \n",
       "mean   249876.829300  1.855163e+07  5.673793e+07    100.268100     51.393907   \n",
       "std    257380.109004  3.662669e+07  1.495854e+08     27.777829    216.729552   \n",
       "min         5.000000  0.000000e+00  0.000000e+00      0.000000      4.258000   \n",
       "25%     12286.500000  0.000000e+00  0.000000e+00     90.000000     14.577750   \n",
       "50%    152558.000000  5.000000e+05  1.631245e+05    100.000000     21.905500   \n",
       "75%    452021.750000  2.000000e+07  4.479661e+07    113.000000     40.654000   \n",
       "max    922260.000000  3.800000e+08  2.847246e+09    750.000000  11474.647000   \n",
       "\n",
       "            voteAvg     voteCount  genresAmount  productionCoAmount  \\\n",
       "count  10000.000000  10000.000000  10000.000000        10000.000000   \n",
       "mean       6.483490   1342.381800      2.596500            3.171400   \n",
       "std        0.984274   2564.196637      1.154565            2.539738   \n",
       "min        1.300000      1.000000      0.000000            0.000000   \n",
       "25%        5.900000    120.000000      2.000000            2.000000   \n",
       "50%        6.500000    415.000000      3.000000            3.000000   \n",
       "75%        7.200000   1316.000000      3.000000            4.000000   \n",
       "max       10.000000  30788.000000     16.000000           89.000000   \n",
       "\n",
       "       productionCountriesAmount   actorsAmount  \n",
       "count               10000.000000   10000.000000  \n",
       "mean                    1.751000    2147.666600  \n",
       "std                     3.012093   37200.075802  \n",
       "min                     0.000000       0.000000  \n",
       "25%                     1.000000      13.000000  \n",
       "50%                     1.000000      21.000000  \n",
       "75%                     2.000000      36.000000  \n",
       "max                   155.000000  919590.000000  "
      ]
     },
     "execution_count": 3,
     "metadata": {},
     "output_type": "execute_result"
    }
   ],
   "source": [
    "df.describe()"
   ]
  },
  {
   "attachments": {},
   "cell_type": "markdown",
   "metadata": {},
   "source": [
    "Se realizaran transforamciones para que estén los datos en la misma escala. "
   ]
  },
  {
   "cell_type": "code",
   "execution_count": 16,
   "metadata": {},
   "outputs": [
    {
     "data": {
      "text/plain": [
       "0.01158451389667735"
      ]
     },
     "execution_count": 16,
     "metadata": {},
     "output_type": "execute_result"
    }
   ],
   "source": [
    "\n",
    "datos1 = pd.DataFrame(df)\n",
    "datos1 = datos1[['budget', 'revenue', 'runtime', 'popularity', 'voteAvg']]\n",
    "\n",
    "X = np.array(datos1)\n",
    "\n",
    "X_scale=sklearn.preprocessing.scale(X)\n",
    "\n",
    "pyclustertend.hopkins(X,len(X))\n",
    "\n",
    "\n"
   ]
  },
  {
   "attachments": {},
   "cell_type": "markdown",
   "metadata": {},
   "source": [
    "Como se puede observar con un hopkins de 0.012, se puede observar que los datos están uniformemente distribuidos. Por lo tanto si es factible realizar clustering de los datos.\n"
   ]
  },
  {
   "cell_type": "code",
   "execution_count": 19,
   "metadata": {},
   "outputs": [],
   "source": [
    "pyclustertend.vat(X_scale)"
   ]
  },
  {
   "attachments": {},
   "cell_type": "markdown",
   "metadata": {},
   "source": [
    "Para observar cuantos grupos se deberían realizar se puede observar un gráfico de codo. "
   ]
  },
  {
   "cell_type": "code",
   "execution_count": 18,
   "metadata": {},
   "outputs": [
    {
     "data": {
      "image/png": "[encoded data removed]",
      "text/plain": [
       "<Figure size 1600x900 with 1 Axes>"
      ]
     },
     "metadata": {},
     "output_type": "display_data"
    }
   ],
   "source": [
    "clusters = range(1,11)\n",
    "wcss = []\n",
    "for i in clusters:\n",
    "    kmeans = cluster.KMeans(n_clusters=i)\n",
    "    kmeans.fit(X_scale)\n",
    "    wcss.append(kmeans.inertia_)\n",
    "\n",
    "plt.plot(clusters, wcss)\n",
    "plt.xlabel(\"Número de clusters\")\n",
    "plt.ylabel(\"Score\")\n",
    "plt.title(\"Gráfico de Codo\")\n",
    "plt.show()"
   ]
  },
  {
   "attachments": {},
   "cell_type": "markdown",
   "metadata": {},
   "source": [
    "Como se puede observar con el gráfico, el número de grupos que se pueden observar son entre 4 a 6. Para este caso, se usaran 4 grupos porque es en donde existe la mayor diferencia entre el punto anterior y el punto de 4 grupos. Por lo tanto, en este caso se utilizaran 4 grupos para el cluster. \n"
   ]
  }
 ],
 "metadata": {
  "kernelspec": {
   "display_name": "Python 3",
   "language": "python",
   "name": "python3"
  },
  "language_info": {
   "codemirror_mode": {
    "name": "ipython",
    "version": 3
   },
   "file_extension": ".py",
   "mimetype": "text/x-python",
   "name": "python",
   "nbconvert_exporter": "python",
   "pygments_lexer": "ipython3",
   "version": "3.10.0"
  },
  "orig_nbformat": 4,
  "vscode": {
   "interpreter": {
    "hash": "7613b7b53fe3c82445b170b325c95c9a1fab3349f6dbf0989ede3d2322ba93e2"
   }
  }
 },
 "nbformat": 4,
 "nbformat_minor": 2
}
